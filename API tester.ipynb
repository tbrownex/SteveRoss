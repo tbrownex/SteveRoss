{
 "cells": [
  {
   "cell_type": "code",
   "execution_count": 1,
   "metadata": {},
   "outputs": [],
   "source": [
    "import urllib.request\n",
    "import json\n",
    "import requests\n",
    "\n",
    "import config\n",
    "from utils import getRequest, putRequest, delRequest\n",
    "from createCampaign import createCampaign\n",
    "from getCampaign import getCampaign\n",
    "from copyCampaign import copyCampaign\n",
    "from deleteCampaign import deleteCampaign\n",
    "from showGeoTargets import showGeoTargets\n",
    "from getAds import getAds\n",
    "from postAd import postAd\n",
    "from getGeoFences import getGeoFences\n",
    "from updateGeoFences import updateGeoFences\n",
    "from getOrganization import getOrg\n",
    "from updateCampaign import updateCampaign\n",
    "from getAddresses import getAddresses\n",
    "from createAddressableTargets import createAddressableTargets\n",
    "from addAddressableTargetToCampaign import addAddressableTargetToCampaign\n",
    "from updateDeviceTypes import updateDeviceTypes\n",
    "from activateCampaign import activateCampaign\n",
    "from getReports import getReports\n",
    "from getReportSchedule import getReportSchedule"
   ]
  },
  {
   "cell_type": "code",
   "execution_count": 2,
   "metadata": {},
   "outputs": [],
   "source": [
    "# Bixy\n",
    "#orgID = 334178\n",
    "#campaignID = 2750886\n",
    "# Pizza Hut\n",
    "#orgID = 352328\n",
    "#campaignID = 2905567    # GeoFenced\n",
    "# Aurelios\n",
    "orgID = 266374\n",
    "#campaignID = 2905551\n",
    "campaignID = 2943476\n",
    "# Subway\n",
    "orgID = 351975\n",
    "campaignID = 2949446"
   ]
  },
  {
   "cell_type": "code",
   "execution_count": 3,
   "metadata": {},
   "outputs": [
    {
     "name": "stdout",
     "output_type": "stream",
     "text": [
      "Subway\n"
     ]
    }
   ],
   "source": [
    "# Get the name of a specific Organization\n",
    "#orgName = getOrg()         # Names of all Orgs\n",
    "orgName = getOrg(orgID)    # Name of a single Org"
   ]
  },
  {
   "cell_type": "markdown",
   "metadata": {},
   "source": [
    "##### Campaign(s)"
   ]
  },
  {
   "cell_type": "code",
   "execution_count": 4,
   "metadata": {
    "scrolled": true
   },
   "outputs": [
    {
     "name": "stdout",
     "output_type": "stream",
     "text": [
      "Subway\n",
      "\n",
      "\n"
     ]
    }
   ],
   "source": [
    "# Get all campaigns in an Org\n",
    "#campaign = getCampaign(orgID)               # All campaigns in an Org\n",
    "campaign = getCampaign(orgID, campaignID)   # Single campaign"
   ]
  },
  {
   "cell_type": "code",
   "execution_count": 5,
   "metadata": {},
   "outputs": [
    {
     "name": "stdout",
     "output_type": "stream",
     "text": [
      "https://app.simpli.fi/api/organizations/351975/report_center/reports/675540/schedules?children=true\n"
     ]
    }
   ],
   "source": [
    "resp = getReportSchedule(orgID, 675540)"
   ]
  },
  {
   "cell_type": "code",
   "execution_count": 6,
   "metadata": {},
   "outputs": [
    {
     "data": {
      "text/plain": [
       "{'schedules': []}"
      ]
     },
     "execution_count": 6,
     "metadata": {},
     "output_type": "execute_result"
    }
   ],
   "source": [
    "resp"
   ]
  },
  {
   "cell_type": "code",
   "execution_count": 5,
   "metadata": {},
   "outputs": [],
   "source": [
    "# Create a single campaign, which is a two-step process\n",
    "# First create a stub via POST; then update the stub\n",
    "#campaignID = createCampaign(orgID)"
   ]
  },
  {
   "cell_type": "code",
   "execution_count": 6,
   "metadata": {},
   "outputs": [],
   "source": [
    "# Copy a campaign: this will create as many campaigns as specified\n",
    "#copyCampaign(orgID, campaignID, 'Tom', 2)"
   ]
  },
  {
   "cell_type": "code",
   "execution_count": 7,
   "metadata": {},
   "outputs": [],
   "source": [
    "# Update a campaign\n",
    "payload = {\n",
    "      'campaign': {\"week_dayparting\": [\n",
    "        [0,1,2,3,4,5,20,21,22,23],\n",
    "        [0,1,2,3,4,5,20,21,22,23],\n",
    "        [0,1,2,3,4,5,20,21,22,23],\n",
    "        [0,1,2,3,4,5,20,21,22,23],\n",
    "        [0,1,2,3,4,5,20,21,22,23],\n",
    "        [8,9,10,11,12,13,14,15],\n",
    "        [8,9,10,11,12,13,14,15]\n",
    "      ]}\n",
    "}\n",
    "payload = json.dumps(payload)\n",
    "#resp = updateCampaign(orgID, campaignID, payload)"
   ]
  },
  {
   "cell_type": "code",
   "execution_count": 8,
   "metadata": {},
   "outputs": [],
   "source": [
    "# Activate a Campaign\n",
    "#resp = activateCampaign(orgID, campaignID)"
   ]
  },
  {
   "cell_type": "code",
   "execution_count": 5,
   "metadata": {},
   "outputs": [
    {
     "name": "stdout",
     "output_type": "stream",
     "text": [
      "Subway\n",
      "\n",
      "\n",
      "id                  2946027\n",
      "name                QSR - Burger King  02\n",
      "custom_id           None\n",
      "status              Draft\n",
      "start_date          2022-05-20\n",
      "end_date            2022-07-15\n",
      "\n",
      "\n",
      "Subway\n",
      "\n",
      "\n",
      "id                  2946028\n",
      "name                QSR - Burger King  03\n",
      "custom_id           None\n",
      "status              Draft\n",
      "start_date          2022-05-20\n",
      "end_date            2022-07-15\n",
      "\n",
      "\n",
      "Subway\n",
      "\n",
      "\n",
      "id                  2946029\n",
      "name                QSR - Burger King  04\n",
      "custom_id           None\n",
      "status              Draft\n",
      "start_date          2022-05-20\n",
      "end_date            2022-07-15\n",
      "\n",
      "\n",
      "Subway\n",
      "\n",
      "\n",
      "id                  2946030\n",
      "name                QSR - Burger King  05\n",
      "custom_id           None\n",
      "status              Draft\n",
      "start_date          2022-05-20\n",
      "end_date            2022-07-15\n",
      "\n",
      "\n",
      "Subway\n",
      "\n",
      "\n",
      "id                  2946031\n",
      "name                QSR - Burger King  06\n",
      "custom_id           None\n",
      "status              Draft\n",
      "start_date          2022-05-20\n",
      "end_date            2022-07-15\n",
      "\n",
      "\n",
      "Subway\n",
      "\n",
      "\n",
      "id                  2946032\n",
      "name                QSR - Burger King  07\n",
      "custom_id           None\n",
      "status              Draft\n",
      "start_date          2022-05-20\n",
      "end_date            2022-07-15\n",
      "\n",
      "\n",
      "Subway\n",
      "\n",
      "\n",
      "id                  2946033\n",
      "name                QSR - Burger King  08\n",
      "custom_id           None\n",
      "status              Draft\n",
      "start_date          2022-05-20\n",
      "end_date            2022-07-15\n",
      "\n",
      "\n",
      "Subway\n",
      "\n",
      "\n",
      "id                  2946034\n",
      "name                QSR - Burger King  09\n",
      "custom_id           None\n",
      "status              Draft\n",
      "start_date          2022-05-20\n",
      "end_date            2022-07-15\n",
      "\n",
      "\n",
      "Subway\n",
      "\n",
      "\n",
      "id                  2946035\n",
      "name                QSR - Burger King  10\n",
      "custom_id           None\n",
      "status              Draft\n",
      "start_date          2022-05-20\n",
      "end_date            2022-07-15\n",
      "\n",
      "\n"
     ]
    }
   ],
   "source": [
    "IDs = [x for x in range(2946027, 2946036)]\n",
    "for x in IDs:\n",
    "    deleteCampaign(orgID, x)"
   ]
  },
  {
   "cell_type": "markdown",
   "metadata": {},
   "source": [
    "##### Ads"
   ]
  },
  {
   "cell_type": "code",
   "execution_count": 9,
   "metadata": {
    "scrolled": true
   },
   "outputs": [
    {
     "name": "stdout",
     "output_type": "stream",
     "text": [
      "Subway\n",
      "\n",
      "\n",
      "id                  2935542\n",
      "name                QSR - Domino's\n",
      "custom_id           None\n",
      "status              Pending\n",
      "start_date          2022-05-19\n",
      "end_date            2022-07-15\n",
      "\n",
      "\n",
      "ID          Name                                                   Status      Verified\n",
      "26154410    300x250_mozza meat                                     Active      True\n",
      "26154408    300x50_mozza meat                                      Active      True\n",
      "26154412    300x600_mozza meat                                     Active      True\n",
      "26154411    320x50_mozza meat                                      Active      True\n",
      "26154409    728X90_mozza meat                                      Active      True\n"
     ]
    }
   ],
   "source": [
    "# Get the ads for a campaign\n",
    "resp = getAds(orgID, campaignID)"
   ]
  },
  {
   "cell_type": "code",
   "execution_count": 6,
   "metadata": {},
   "outputs": [
    {
     "data": {
      "text/plain": [
       "{'ads': [{'resource': 'https://app.simpli.fi/api/organizations/266374/campaigns/2905551/ads/26148688',\n",
       "   'id': 26148688,\n",
       "   'name': 'Extra HTML',\n",
       "   'status': 'Active',\n",
       "   'pacing': 100.0,\n",
       "   'creative_group_id': None,\n",
       "   'click_tag_verified': None,\n",
       "   'preview_tag': '<iframe src=\"//adspreview.simpli.fi/ads/live/2905551/26148688/ad.html?sifitest=true&sifi_uid=&sifi_exchange_uid=&cb=89817334&sifi=8180,2905551,26148688,0,1,0,0,0,0,0,0,v,0,0,0,0,0,0,0,0,0,0,0,0,0,0,0,0,0,0,dalbid1,0,0,0,0,0,0,0,NoPC,0,0,0,0,0,0,0,0,0,0,0,0,0,0,266374,0,0,0,0,0,0,0,0&request_id=42&dp_tmp=&sifi_kw=tv\" width=\"300\"  height=\"250\" frameborder=\"0\" marginwidth=\"0\" marginheight=\"0\"  scrolling=\"no\"></iframe>',\n",
       "   'created_at': '2022-05-25T13:58:24.656-05:00',\n",
       "   'updated_at': '2022-05-25T13:58:24.656-05:00',\n",
       "   'target_url': 'http://aurelios.com',\n",
       "   'primary_creative': '300x250_dark_bg.png',\n",
       "   'primary_creative_url': 'https://adspreview.simpli.fi/ads/live/2905551/26148688/aed54.png',\n",
       "   'alt_text': None,\n",
       "   'extra_html': '<div>The password is Spokane</div>',\n",
       "   'actions': [{'pause': {'href': 'https://app.simpli.fi/api/organizations/266374/campaigns/2905551/ads/26148688/pause',\n",
       "      'method': 'POST'}},\n",
       "    {'verify_click_tag': {'href': 'https://app.simpli.fi/api/organizations/266374/campaigns/2905551/ads/26148688/verify_click_tag?cb=89817334',\n",
       "      'method': 'POST'}}],\n",
       "   'resources': [{'ad_file_types': 'https://app.simpli.fi/api/ad_file_types/1'},\n",
       "    {'ad_sizes': 'https://app.simpli.fi/api/ad_sizes/1'}]}]}"
      ]
     },
     "execution_count": 6,
     "metadata": {},
     "output_type": "execute_result"
    }
   ],
   "source": [
    "# Create a new Ad for a campaign\n",
    "path='/home/tbrownex/repos/SteveRoss/Bixy'\n",
    "fileName='300x250_dark_bg.png'\n",
    "adDetails = {\n",
    "    'name': 'Extra HTML',\n",
    "    'targetURL': 'http://aurelios.com',\n",
    "    'extraHTML': \"<div>The password is Spokane</div>\",\n",
    "    'path': path,\n",
    "    'fileName': fileName\n",
    "}\n",
    "postAd(orgID, campaignID, adDetails)"
   ]
  },
  {
   "cell_type": "markdown",
   "metadata": {},
   "source": [
    "##### Addresses"
   ]
  },
  {
   "cell_type": "code",
   "execution_count": 10,
   "metadata": {},
   "outputs": [],
   "source": [
    "addressIDs = [x for x in range(678604, 678613)]"
   ]
  },
  {
   "cell_type": "code",
   "execution_count": 11,
   "metadata": {},
   "outputs": [
    {
     "data": {
      "text/plain": [
       "[678604, 678605, 678606, 678607, 678608, 678609, 678610, 678611, 678612]"
      ]
     },
     "execution_count": 11,
     "metadata": {},
     "output_type": "execute_result"
    }
   ],
   "source": [
    "addressIDs"
   ]
  },
  {
   "cell_type": "code",
   "execution_count": 4,
   "metadata": {},
   "outputs": [],
   "source": [
    "# Get the Addressable targets for an Organization\n",
    "resp = getAddresses(_, orgID)             # Targets for an organization\n",
    "#resp = getAddresses(campaignID, None)     # Targets for a campaign"
   ]
  },
  {
   "cell_type": "markdown",
   "metadata": {},
   "source": [
    "##### Addressable targets"
   ]
  },
  {
   "cell_type": "code",
   "execution_count": 16,
   "metadata": {},
   "outputs": [],
   "source": [
    "newIDs = [x for x in range(2939250, 2939260)]"
   ]
  },
  {
   "cell_type": "code",
   "execution_count": 18,
   "metadata": {},
   "outputs": [
    {
     "data": {
      "text/plain": [
       "[2939250,\n",
       " 2939251,\n",
       " 2939252,\n",
       " 2939253,\n",
       " 2939254,\n",
       " 2939255,\n",
       " 2939256,\n",
       " 2939257,\n",
       " 2939258,\n",
       " 2939259]"
      ]
     },
     "execution_count": 18,
     "metadata": {},
     "output_type": "execute_result"
    }
   ],
   "source": [
    "newIDs"
   ]
  },
  {
   "cell_type": "code",
   "execution_count": 4,
   "metadata": {},
   "outputs": [
    {
     "name": "stdout",
     "output_type": "stream",
     "text": [
      "--   Tom1.csv\n",
      "success\n",
      "--   Tom2.csv\n",
      "success\n"
     ]
    }
   ],
   "source": [
    "'''\n",
    "Adding Addressable Targets\n",
    "Have to write out the address IDs that were assigned...don't know any way to get them once uploaded\n",
    "'''\n",
    "path = '/home/tbrownex/repos/SteveRoss/Subway/tom'\n",
    "#addressIDs = createAddressableTargets(orgID, path)\n",
    "#pd.DataFrame(data=addressIDs, columns=['addressID']).to_csv('addressIDs.csv', index=False)"
   ]
  },
  {
   "cell_type": "code",
   "execution_count": 9,
   "metadata": {},
   "outputs": [
    {
     "data": {
      "text/html": [
       "<div>\n",
       "<style scoped>\n",
       "    .dataframe tbody tr th:only-of-type {\n",
       "        vertical-align: middle;\n",
       "    }\n",
       "\n",
       "    .dataframe tbody tr th {\n",
       "        vertical-align: top;\n",
       "    }\n",
       "\n",
       "    .dataframe thead th {\n",
       "        text-align: right;\n",
       "    }\n",
       "</style>\n",
       "<table border=\"1\" class=\"dataframe\">\n",
       "  <thead>\n",
       "    <tr style=\"text-align: right;\">\n",
       "      <th></th>\n",
       "      <th>addressID</th>\n",
       "    </tr>\n",
       "  </thead>\n",
       "  <tbody>\n",
       "    <tr>\n",
       "      <th>0</th>\n",
       "      <td>678961</td>\n",
       "    </tr>\n",
       "    <tr>\n",
       "      <th>1</th>\n",
       "      <td>678962</td>\n",
       "    </tr>\n",
       "  </tbody>\n",
       "</table>\n",
       "</div>"
      ],
      "text/plain": [
       "   addressID\n",
       "0     678961\n",
       "1     678962"
      ]
     },
     "execution_count": 9,
     "metadata": {},
     "output_type": "execute_result"
    }
   ],
   "source": [
    "df"
   ]
  },
  {
   "cell_type": "code",
   "execution_count": 7,
   "metadata": {},
   "outputs": [],
   "source": [
    "import pandas as pd"
   ]
  },
  {
   "cell_type": "code",
   "execution_count": 7,
   "metadata": {},
   "outputs": [
    {
     "name": "stdout",
     "output_type": "stream",
     "text": [
      "success\n"
     ]
    }
   ],
   "source": [
    "addressID = 674482\n",
    "#resp = addAddressableTargetToCampaign(orgID, campaignID, addressID)"
   ]
  },
  {
   "cell_type": "code",
   "execution_count": 45,
   "metadata": {},
   "outputs": [],
   "source": [
    "# Get an Addressable target\n",
    "url = \"https://app.simpli.fi/api/addresses/674483\"\n",
    "resp = getRequest(url)"
   ]
  },
  {
   "cell_type": "code",
   "execution_count": 9,
   "metadata": {
    "collapsed": true
   },
   "outputs": [
    {
     "name": "stdout",
     "output_type": "stream",
     "text": [
      "ID          Type           Name\n",
      "103571296   Conversion     16690, Seven Lakes - 4355 NC Highway 211\n",
      "112932476   Target         16690, Seven Lakes - 4355 NC Highway 211\n",
      "103571316   Conversion     15297, Aberdeen - 2221 N Pinehurst Dr\n",
      "112932406   Target         15297, Aberdeen - 2221 N Pinehurst Dr\n",
      "103571317   Conversion     14850,Fayetteville - 2132 Skibo Rd.\n",
      "112932407   Target         14850,Fayetteville - 2132 Skibo Rd.\n",
      "112932474   Target         13349, Siler City - 106 Walmart Supercenter\n",
      "103571294   Conversion     13349, Siler City - 106 Walmart Supercenter\n",
      "103571201   Conversion     14348, Aberdeen - 1383 N Sandhills Blvd\n",
      "112932521   Target         14348, Aberdeen - 1383 N Sandhills Blvd\n",
      "103571202   Conversion     23652, Whispering Pines - 7451 Hwy 22\n",
      "112932451   Target         23652, Whispering Pines - 7451 Hwy 22\n",
      "103571203   Conversion     19162, Carthage - 1005 Monroe St\n",
      "112932422   Target         19162, Carthage - 1005 Monroe St\n",
      "112932473   Target         14017, Raeford - 503 Highway 401 Bypass\n",
      "103571290   Conversion     14017, Raeford - 503 Highway 401 Bypass\n",
      "112932415   Target         1614, Sanford - 2238 Jefferson Davis Hwy\n",
      "103571204   Conversion     1614, Sanford - 2238 Jefferson Davis Hwy\n",
      "103571205   Conversion     28915, Raeford - 4528 Fayetteville Rd\n",
      "112932532   Target         28915, Raeford - 4528 Fayetteville Rd\n",
      "103571303   Conversion     11706, Pittsboro - 630 East St Ste 1\n",
      "112932508   Target         11706, Pittsboro - 630 East St Ste 1\n",
      "103571279   Conversion     3074, Sanford - 1813 S Horner Blvd\n",
      "112932410   Target         3074, Sanford - 1813 S Horner Blvd\n",
      "112932456   Target         33162, Sanford - 4530 Hwy 87 South\n",
      "103571206   Conversion     33162, Sanford - 4530 Hwy 87 South\n",
      "112932531   Target         5710, Hillsborough - 167 Mayo St\n",
      "103571190   Conversion     5710, Hillsborough - 167 Mayo St\n",
      "112932416   Target         920, Carrboro - 602 Jones Ferry Rd Ste K\n",
      "103571191   Conversion     920, Carrboro - 602 Jones Ferry Rd Ste K\n",
      "112932540   Target         11646, Chapel Hill - 11552 Us 15 501 N\n",
      "103571309   Conversion     11646, Chapel Hill - 11552 Us 15 501 N\n",
      "112932493   Target         30745, Hillsborough - 535 Hampton Pt\n",
      "103571192   Conversion     30745, Hillsborough - 535 Hampton Pt\n",
      "112932494   Target         30063, Hillsborough - 129 N Scotswood Blvd\n",
      "103571193   Conversion     30063, Hillsborough - 129 N Scotswood Blvd\n",
      "112932485   Target         43336, Chapel Hill - 400 Market St\n",
      "103571194   Conversion     43336, Chapel Hill - 400 Market St\n",
      "103571195   Conversion     17518, Fayetteville - 9541 Cliffdale Rd\n",
      "112932539   Target         17518, Fayetteville - 9541 Cliffdale Rd\n",
      "112932426   Target         5709, Chapel Hill - 1129 Weaver Dairy Rd\n",
      "103571207   Conversion     5709, Chapel Hill - 1129 Weaver Dairy Rd\n",
      "103571208   Conversion     17517, Cameron - 175 Mattie Haddock Dr\n",
      "112932496   Target         17517, Cameron - 175 Mattie Haddock Dr\n",
      "112932466   Target         2763, Chapel Hill - 1216 Raleigh Rd\n",
      "103571209   Conversion     2763, Chapel Hill - 1216 Raleigh Rd\n",
      "112932537   Target         20779, Chapel Hill - 50040 Governors Dr\n",
      "103571210   Conversion     20779, Chapel Hill - 50040 Governors Dr\n",
      "112932481   Target         3739, Fayetteville - 6900 Cliffdale Rd\n",
      "103571211   Conversion     3739, Fayetteville - 6900 Cliffdale Rd\n",
      "112932421   Target         52243, Hope Mills - 5555 Waldos Beach Rd\n",
      "103571212   Conversion     52243, Hope Mills - 5555 Waldos Beach Rd\n",
      "112932552   Target         55157, Fayetteville - 1738 Bingham Dr\n",
      "103571311   Conversion     55157, Fayetteville - 1738 Bingham Dr\n",
      "103571213   Conversion     2354, Fayetteville - 5025 Santa Fe Dr\n",
      "112932529   Target         2354, Fayetteville - 5025 Santa Fe Dr\n",
      "103571214   Conversion     1808, Roxboro - 2808 Durham Rd\n",
      "112932510   Target         1808, Roxboro - 2808 Durham Rd\n",
      "103571215   Conversion     1681, Durham - 4600 Durham Chapel Hill Blvd\n",
      "112932413   Target         1681, Durham - 4600 Durham Chapel Hill Blvd\n",
      "112932408   Target         14850, Fayetteville - 2132 Skibo Rd.\n",
      "103571216   Conversion     14850, Fayetteville - 2132 Skibo Rd.\n",
      "112932554   Target         1805, Roxboro - 912 N Madison Blvd\n",
      "103571312   Conversion     1805, Roxboro - 912 N Madison Blvd\n",
      "103571217   Conversion     27990, Spring Lake - 211 Murchison Rd\n",
      "112932516   Target         27990, Spring Lake - 211 Murchison Rd\n",
      "112932523   Target         3533, Hope Mills - 3020 N Main St\n",
      "103571306   Conversion     3533, Hope Mills - 3020 N Main St\n",
      "112932536   Target         47811, Spring Lake - 6761 Overhills Rd\n",
      "103571218   Conversion     47811, Spring Lake - 6761 Overhills Rd\n",
      "112932501   Target         1530, Fayetteville - 5075 Morganton Rd\n",
      "103571219   Conversion     1530, Fayetteville - 5075 Morganton Rd\n",
      "103571291   Conversion     11605, Durham - 4711 Hope Valley Rd\n",
      "112932470   Target         11605, Durham - 4711 Hope Valley Rd\n",
      "103571302   Conversion     12401, Durham - 3600 Hillsborough Rd\n",
      "112932505   Target         12401, Durham - 3600 Hillsborough Rd\n",
      "112932549   Target         27563, Durham - 6910 Fayetteville Rd\n",
      "103571220   Conversion     27563, Durham - 6910 Fayetteville Rd\n",
      "103571221   Conversion     4849, Fayetteville - 3450 Bragg Blvd\n",
      "112932545   Target         4849, Fayetteville - 3450 Bragg Blvd\n",
      "112932507   Target         15952, Fayetteville - 1677 Owen Dr\n",
      "103571222   Conversion     15952, Fayetteville - 1677 Owen Dr\n",
      "112932535   Target         16706, Fayetteville - 2908 Raeford Rd\n",
      "103571307   Conversion     16706, Fayetteville - 2908 Raeford Rd\n",
      "112932556   Target         10876, Durham - 2405 Durham Chapel Hill Blvd\n",
      "103571315   Conversion     10876, Durham - 2405 Durham Chapel Hill Blvd\n",
      "112932444   Target         24842, Durham - 705B 9th St\n",
      "103571223   Conversion     24842, Durham - 705B 9th St\n",
      "112932428   Target         29851, Durham - 3825 S Roxboro St\n",
      "103571224   Conversion     29851, Durham - 3825 S Roxboro St\n",
      "103571283   Conversion     66734, Fayetteville - 3421 Murchison Rd\n",
      "112932448   Target         66734, Fayetteville - 3421 Murchison Rd\n",
      "103571314   Conversion     16589, Fayetteville - 3055 Legion Rd\n",
      "112932557   Target         16589, Fayetteville - 3055 Legion Rd\n",
      "103571225   Conversion     12455, Durham - 5300 N Roxboro Rd\n",
      "112932472   Target         12455, Durham - 5300 N Roxboro Rd\n",
      "112932435   Target         42424, Cary - 10130 Green Level Church Rd Ste 300\n",
      "103571226   Conversion     42424, Cary - 10130 Green Level Church Rd Ste 300\n",
      "103571227   Conversion     1948, Durham - 401 E Lakewood Ave\n",
      "112932445   Target         1948, Durham - 401 E Lakewood Ave\n",
      "112932483   Target         731, Durham - 4830 NC Highway 55\n",
      "103571292   Conversion     731, Durham - 4830 NC Highway 55\n",
      "103571246   Conversion     10120, Durham - 3500 N Roxboro St\n",
      "112932528   Target         10120, Durham - 3500 N Roxboro St\n",
      "103571293   Conversion     41028, Durham - 2120 Avondale Dr\n",
      "112932469   Target         41028, Durham - 2120 Avondale Dr\n",
      "112932530   Target         7249, Fayetteville - 3771 Ramsey St\n",
      "103571228   Conversion     7249, Fayetteville - 3771 Ramsey St\n",
      "103571229   Conversion     57792, Cary - 2700 NC 55 Hwy\n",
      "112932411   Target         57792, Cary - 2700 NC 55 Hwy\n",
      "112932519   Target         11138, Durham - 1000 N Miami Blvd\n",
      "103571230   Conversion     11138, Durham - 1000 N Miami Blvd\n",
      "112932430   Target         29952, Apex - 5412 Apex Peakway\n",
      "103571231   Conversion     29952, Apex - 5412 Apex Peakway\n",
      "112932515   Target         3718, Fayetteville - 316 N Eastern Blvd\n",
      "103571232   Conversion     3718, Fayetteville - 316 N Eastern Blvd\n",
      "103571233   Conversion     39636, Durham - 5400 S Miami Blvd Ste 118\n",
      "112932544   Target         39636, Durham - 5400 S Miami Blvd Ste 118\n",
      "112932420   Target         12718, Durham - 1534 S Miami Blvd\n",
      "103571234   Conversion     12718, Durham - 1534 S Miami Blvd\n",
      "103571235   Conversion     42679, Morrisville - 10300 Chapel Hill Rd\n",
      "112932487   Target         42679, Morrisville - 10300 Chapel Hill Rd\n",
      "103571236   Conversion     5269, Cary - 2444 SW Cary Pkwy\n",
      "112932482   Target         5269, Cary - 2444 SW Cary Pkwy\n",
      "112932438   Target         40733, Durham - 2121 Tw Alexander Dr\n",
      "103571237   Conversion     40733, Durham - 2121 Tw Alexander Dr\n",
      "103571238   Conversion     11640, Lillington - 65 E Cornelius Harnett Blvd\n",
      "112932533   Target         11640, Lillington - 65 E Cornelius Harnett Blvd\n",
      "112932513   Target         11873, Durham - 121 Sherron Rd\n",
      "103571239   Conversion     11873, Durham - 121 Sherron Rd\n",
      "112932471   Target         30454, Raleigh - 7850 Alexander Promenade Pl\n",
      "103571240   Conversion     30454, Raleigh - 7850 Alexander Promenade Pl\n",
      "103571241   Conversion     2093, Fuquay-Varina - 1326 N Main St\n",
      "112932541   Target         2093, Fuquay-Varina - 1326 N Main St\n",
      "103571242   Conversion     3262, Cary - 813 Bass Pro Ln\n",
      "112932417   Target         3262, Cary - 813 Bass Pro Ln\n",
      "103571243   Conversion     17385, Cary - 611 E Chatham St\n",
      "112932484   Target         17385, Cary - 611 E Chatham St\n",
      "112932551   Target         47035, Butner - 300 Central Ave\n",
      "103571247   Conversion     47035, Butner - 300 Central Ave\n",
      "112932455   Target         30101, Stedman - 5191 Clinton Rd\n",
      "103571244   Conversion     30101, Stedman - 5191 Clinton Rd\n",
      "112932453   Target         4251, Angier - 515 N Raleigh St\n",
      "103571245   Conversion     4251, Angier - 515 N Raleigh St\n",
      "103571249   Conversion     3151, Cary - 311 Crossroads Blvd\n",
      "112932467   Target         3151, Cary - 311 Crossroads Blvd\n",
      "112932423   Target         55911, Buies Creek - 51 Marshbank Street\n",
      "103571252   Conversion     55911, Buies Creek - 51 Marshbank Street\n",
      "112932437   Target         42484, Fuquay-Varina - 3429 N Main St\n",
      "103571281   Conversion     42484, Fuquay-Varina - 3429 N Main St\n",
      "112932499   Target         4331, Raleigh - 9101 Leesville Rd Ste 137\n",
      "103571253   Conversion     4331, Raleigh - 9101 Leesville Rd Ste 137\n",
      "112932465   Target         881, Raleigh - 5563 Western Blvd\n",
      "103571254   Conversion     881, Raleigh - 5563 Western Blvd\n",
      "103571297   Conversion     4330, Raleigh - 4112 Pleasant Valley Rd Ste 116\n",
      "112932480   Target         4330, Raleigh - 4112 Pleasant Valley Rd Ste 116\n",
      "112932458   Target         30899, Fuquay-Varina - 8109 Fayetteville Rd\n",
      "103571175   Conversion     30899, Fuquay-Varina - 8109 Fayetteville Rd\n",
      "103571176   Conversion     1880, Raleigh - 3225 Avent Ferry Rd\n",
      "112932427   Target         1880, Raleigh - 3225 Avent Ferry Rd\n",
      "112932488   Target         12786, Raleigh - 3940 Western Blvd\n",
      "103571295   Conversion     12786, Raleigh - 3940 Western Blvd\n",
      "112932412   Target         1570, Raleigh - 2720 Lake Wheeler Rd\n",
      "103571196   Conversion     1570, Raleigh - 2720 Lake Wheeler Rd\n",
      "103571197   Conversion     1479, Raleigh - 7494 Creedmoor Rd\n",
      "112932443   Target         1479, Raleigh - 7494 Creedmoor Rd\n",
      "112932449   Target         251, Creedmoor - Rr2\n",
      "103571198   Conversion     251, Creedmoor - Rr2\n",
      "112932503   Target         39884, Creedmoor - 2173 Wilton Ave\n",
      "103571199   Conversion     39884, Creedmoor - 2173 Wilton Ave\n",
      "112932489   Target         57757, Raleigh - 2020 Hillsborough St\n",
      "103571298   Conversion     57757, Raleigh - 2020 Hillsborough St\n",
      "112932479   Target         1381, Garner - 1478 Garner Station Blvd\n",
      "103571200   Conversion     1381, Garner - 1478 Garner Station Blvd\n",
      "112932463   Target         12050, Raleigh - 8711 Six Forks Rd\n",
      "103571288   Conversion     12050, Raleigh - 8711 Six Forks Rd\n",
      "103571248   Conversion     12460, Raleigh - 706 W Peace St\n",
      "112932495   Target         12460, Raleigh - 706 W Peace St\n",
      "103571300   Conversion     5168, Raleigh - 5410 Six Forks Rd\n",
      "112932491   Target         5168, Raleigh - 5410 Six Forks Rd\n",
      "103571177   Conversion     55675, Raleigh - 234 Fayetteville St\n",
      "112932462   Target         55675, Raleigh - 234 Fayetteville St\n",
      "103571178   Conversion     2443, Dunn - 2304 W Cumberland St\n",
      "112932522   Target         2443, Dunn - 2304 W Cumberland St\n",
      "103571179   Conversion     2692, Raleigh - 2424 Wake Forest Rd\n",
      "112932490   Target         2692, Raleigh - 2424 Wake Forest Rd\n",
      "103571180   Conversion     52435, Garner - 1310 5th Ave\n",
      "112932424   Target         52435, Garner - 1310 5th Ave\n",
      "103571181   Conversion     3152, Raleigh - 4003 Wake Forest Rd\n",
      "112932498   Target         3152, Raleigh - 4003 Wake Forest Rd\n",
      "103571182   Conversion     22217, Raleigh - 1601 Cross Link Rd\n",
      "112932518   Target         22217, Raleigh - 1601 Cross Link Rd\n",
      "103571289   Conversion     12044, Garner - 235 Timber Dr\n",
      "112932464   Target         12044, Garner - 235 Timber Dr\n",
      "112932500   Target         18621, Dunn - 808 E Cumberland St\n",
      "103571299   Conversion     18621, Dunn - 808 E Cumberland St\n",
      "103571183   Conversion     59146, Raleigh - 8320 Litchford Rd\n",
      "112932434   Target         59146, Raleigh - 8320 Litchford Rd\n",
      "112932534   Target         5462, Raleigh - 2820 Brentwood Rd\n",
      "103571184   Conversion     5462, Raleigh - 2820 Brentwood Rd\n",
      "112932548   Target         28785, Raleigh - 10450 Durant Rd\n",
      "103571185   Conversion     28785, Raleigh - 10450 Durant Rd\n",
      "103571304   Conversion     1119, Raleigh - 3130 Integrity Dr\n",
      "112932517   Target         1119, Raleigh - 3130 Integrity Dr\n",
      "103571186   Conversion     1738,Oxford - 913 Linden Ave\n",
      "112932409   Target         1738,Oxford - 913 Linden Ave\n",
      "103571187   Conversion     2615, Raleigh - 3416 Poole Rd\n",
      "112932439   Target         2615, Raleigh - 3416 Poole Rd\n",
      "103571250   Conversion     1120, Raleigh - 3639 New Bern Ave\n",
      "112932512   Target         1120, Raleigh - 3639 New Bern Ave\n",
      "112932527   Target         2017, Raleigh - 6320 Capital Blvd Ste 133\n",
      "103571188   Conversion     2017, Raleigh - 6320 Capital Blvd Ste 133\n",
      "103571282   Conversion     26506, Benson - 12330 NC Highway 210\n",
      "112932442   Target         26506, Benson - 12330 NC Highway 210\n",
      "103571189   Conversion     25595, Raleigh - 13200 Falls of Neuse Rd\n",
      "112932543   Target         25595, Raleigh - 13200 Falls of Neuse Rd\n",
      "112932486   Target         12598, Raleigh - 5621 Louisburg Rd\n",
      "103571255   Conversion     12598, Raleigh - 5621 Louisburg Rd\n",
      "103571256   Conversion     40338, Raleigh - 6209 Rock Quarry Rd\n",
      "112932431   Target         40338, Raleigh - 6209 Rock Quarry Rd\n",
      "103571257   Conversion     3726, Wake Forest - 12233 Capital Blvd\n",
      "112932547   Target         3726, Wake Forest - 12233 Capital Blvd\n",
      "112932433   Target         3468, Benson - 701 E Church St\n",
      "103571258   Conversion     3468, Benson - 701 E Church St\n",
      "112932436   Target         61439, Clayton - 8948 Cleveland Rd\n",
      "103571259   Conversion     61439, Clayton - 8948 Cleveland Rd\n",
      "103571260   Conversion     41217, Raleigh - 8410 Louisburg Rd\n",
      "112932440   Target         41217, Raleigh - 8410 Louisburg Rd\n",
      "112932452   Target         48312, Roseboro - 305 Martin Luther King Blvd.\n",
      "103571286   Conversion     48312, Roseboro - 305 Martin Luther King Blvd.\n",
      "112932418   Target         37092, Knightdale - 1018 1 Midway Dr\n",
      "103571261   Conversion     37092, Knightdale - 1018 1 Midway Dr\n",
      "103571262   Conversion     42120, Youngsville - 1130 Us Highway 1 North\n",
      "112932478   Target         42120, Youngsville - 1130 Us Highway 1 North\n",
      "112932511   Target         41211, Wake Forest - 922 Gateway Commons Cir\n",
      "103571263   Conversion     41211, Wake Forest - 922 Gateway Commons Cir\n",
      "112932454   Target         14678, Youngsville - 100 Holden Rd\n",
      "103571264   Conversion     14678, Youngsville - 100 Holden Rd\n",
      "103571251   Conversion     168, Franklinton - 3364 3392 U.S. Highway 1\n",
      "112932538   Target         168, Franklinton - 3364 3392 U.S. Highway 1\n",
      "112932477   Target         11874, Rolesville - 411 S Main St Ste A\n",
      "103571265   Conversion     11874, Rolesville - 411 S Main St Ste A\n",
      "112932502   Target         1684, Clayton - 10159 Nc Highway 70 W\n",
      "103571266   Conversion     1684, Clayton - 10159 Nc Highway 70 W\n",
      "103571267   Conversion     7331, Henderson - 1520 Dabney Dr\n",
      "112932525   Target         7331, Henderson - 1520 Dabney Dr\n",
      "103571301   Conversion     26135, Four Oaks - 5934 US Highway 301 S\n",
      "112932504   Target         26135, Four Oaks - 5934 US Highway 301 S\n",
      "103571268   Conversion     56858, Clayton - 50 Neuse River Pkwy\n",
      "112932524   Target         56858, Clayton - 50 Neuse River Pkwy\n",
      "112932509   Target         6697, Henderson - 1413 N Garnett St\n",
      "103571269   Conversion     6697, Henderson - 1413 N Garnett St\n",
      "112932553   Target         6023, Henderson - 1417 E Andrews Ave\n",
      "103571270   Conversion     6023, Henderson - 1417 E Andrews Ave\n",
      "112932461   Target         10949, Wendell - 2859 Wendell Blvd\n",
      "103571287   Conversion     10949, Wendell - 2859 Wendell Blvd\n",
      "112932542   Target         23711, Smithfield - 905 S Brightleaf Blvd\n",
      "103571271   Conversion     23711, Smithfield - 905 S Brightleaf Blvd\n",
      "112932419   Target         13926, Smithfield - 150 S Equity Dr\n",
      "103571272   Conversion     13926, Smithfield - 150 S Equity Dr\n",
      "112932497   Target         1852, Zebulon - 160 Wakelon St\n",
      "103571273   Conversion     1852, Zebulon - 160 Wakelon St\n",
      "112932526   Target         2976, Smithfield - 1245 N Brightleaf Blvd\n",
      "103571274   Conversion     2976, Smithfield - 1245 N Brightleaf Blvd\n",
      "112932546   Target         1812, Louisburg - 313 S Bickett Blvd\n",
      "103571310   Conversion     1812, Louisburg - 313 S Bickett Blvd\n",
      "112932457   Target         17161, Bunn - 345 Main St\n",
      "103571284   Conversion     17161, Bunn - 345 Main St\n",
      "103571275   Conversion     11203, Warrenton - 305 E Macon St\n",
      "112932475   Target         11203, Warrenton - 305 E Macon St\n",
      "103571313   Conversion     14016, Kenly - 306 S Church St\n",
      "112932555   Target         14016, Kenly - 306 S Church St\n",
      "103571276   Conversion     17695, Spring Hope - 607 E Nash St\n",
      "112932459   Target         17695, Spring Hope - 607 E Nash St\n",
      "103571285   Conversion     23004, Goldsboro - 2339 US Highway 117 S\n",
      "112932450   Target         23004, Goldsboro - 2339 US Highway 117 S\n",
      "103571318   Conversion     21840, Goldsboro - 101 W Patetown Rd\n",
      "112932468   Target         21840, Goldsboro - 101 W Patetown Rd\n",
      "103571305   Conversion     13663, Nashville - 104B W Nashville Dr\n",
      "112932520   Target         13663, Nashville - 104B W Nashville Dr\n",
      "103571319   Conversion     43806, Goldsboro - 2102 Wayne Memorial Dr\n",
      "112932460   Target         43806, Goldsboro - 2102 Wayne Memorial Dr\n",
      "112932550   Target         44427, Wilson - 3401 Raleigh Road Pkwy W\n",
      "103571308   Conversion     44427, Wilson - 3401 Raleigh Road Pkwy W\n",
      "112932425   Target         48605, Goldsboro - 2509 E Ash St\n",
      "103571325   Conversion     48605, Goldsboro - 2509 E Ash St\n",
      "112932506   Target         51534, Wilson - 3722 Airport Blvd NW\n",
      "103571326   Conversion     51534, Wilson - 3722 Airport Blvd NW\n",
      "112932441   Target         6088, Wilson - 1301 Ward Blvd\n",
      "103571320   Conversion     6088, Wilson - 1301 Ward Blvd\n",
      "103571321   Conversion     11174, Wilson - 2861 Ward Blvd\n",
      "112932514   Target         11174, Wilson - 2861 Ward Blvd\n",
      "112932432   Target         30900, Rocky Mount - 10577 E NC Highway 97\n",
      "103571322   Conversion     30900, Rocky Mount - 10577 E NC Highway 97\n",
      "112932492   Target         5577, Rocky Mount - 3635 Sunset Ave\n",
      "103571323   Conversion     5577, Rocky Mount - 3635 Sunset Ave\n",
      "103571324   Conversion     7357, Rocky Mount - 546 Sutters Creek Blvd\n",
      "112932414   Target         7357, Rocky Mount - 546 Sutters Creek Blvd\n",
      "112932429   Target         30588, Roanoke Rapids - 2436 W 10th St\n",
      "103571327   Conversion     30588, Roanoke Rapids - 2436 W 10th St\n",
      "112932446   Target         4303, Roanoke Rapids - 1601 Julian R Allsbrook Hwy\n",
      "103571280   Conversion     4303, Roanoke Rapids - 1601 Julian R Allsbrook Hwy\n",
      "112932558   Target         40612,Roanoke Rapids - 315 Premier Blvd\n",
      "103571277   Conversion     40612,Roanoke Rapids - 315 Premier Blvd\n",
      "112932447   Target         10191, Tarboro - 1108 Western Blvd\n",
      "103571278   Conversion     10191, Tarboro - 1108 Western Blvd\n"
     ]
    }
   ],
   "source": [
    "# Get all the geoFences for a campaign\n",
    "resp = getGeoFences(orgID, campaignID, None)             # GeoFences for a campaign\n",
    "#resp = getGeoFences(orgID, campaignID, 113805972)   # Coordinates of a geoFence"
   ]
  },
  {
   "cell_type": "code",
   "execution_count": 10,
   "metadata": {},
   "outputs": [
    {
     "name": "stdout",
     "output_type": "stream",
     "text": [
      "ID        Name                                    Active\n",
      "662692    153 Subway Stores                       False\n",
      "660700    340 Subway Stores in 80 Mile Radius     False\n",
      "584994    Bixy 01 Nov 17, 2021                    False\n",
      "588656    Bixy 01 - Nov 24th - Recency of 1 Week  False\n",
      "589031    Bixy 01 - Nov 26th - Recency of 2 Week  True\n",
      "595759    Bixy 02 Dec 14, 2021                    False\n",
      "595763    Bixy 02 Dec 14, 2021 - 2 Week Recency   True\n",
      "595785    Bixy 03 Dec 14, 2021 - 2 Week Recency   True\n",
      "600230    Bixy 040 Dec 28, 2021 - 2 Week Recency  False\n",
      "600232    Bixy 041 Dec 28, 2021 - 2 Week Recency  False\n"
     ]
    }
   ],
   "source": [
    "# Get Addresses for a campaign\n",
    "_=getAddresses(_, orgID)"
   ]
  },
  {
   "cell_type": "code",
   "execution_count": 9,
   "metadata": {},
   "outputs": [],
   "source": [
    "#showGeoTargets(orgID, campaignID)"
   ]
  },
  {
   "cell_type": "markdown",
   "metadata": {},
   "source": [
    "##### Device Types"
   ]
  },
  {
   "cell_type": "code",
   "execution_count": 4,
   "metadata": {},
   "outputs": [
    {
     "name": "stdout",
     "output_type": "stream",
     "text": [
      "Updating Device Types\n",
      "success\n"
     ]
    }
   ],
   "source": [
    "_=updateDeviceTypes(campaignID, [35])"
   ]
  },
  {
   "cell_type": "code",
   "execution_count": 20,
   "metadata": {},
   "outputs": [],
   "source": []
  },
  {
   "cell_type": "code",
   "execution_count": null,
   "metadata": {},
   "outputs": [],
   "source": []
  }
 ],
 "metadata": {
  "anaconda-cloud": {},
  "kernelspec": {
   "display_name": "tensorflow",
   "language": "python",
   "name": "tensorflow"
  },
  "language_info": {
   "codemirror_mode": {
    "name": "ipython",
    "version": 3
   },
   "file_extension": ".py",
   "mimetype": "text/x-python",
   "name": "python",
   "nbconvert_exporter": "python",
   "pygments_lexer": "ipython3",
   "version": "3.8.10"
  }
 },
 "nbformat": 4,
 "nbformat_minor": 1
}
