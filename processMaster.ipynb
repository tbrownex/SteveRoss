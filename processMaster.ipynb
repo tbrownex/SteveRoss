{
 "cells": [
  {
   "cell_type": "code",
   "execution_count": 1,
   "id": "340d3dd7",
   "metadata": {},
   "outputs": [],
   "source": [
    "import pandas as pd\n",
    "import json\n",
    "\n",
    "from getCampaign import getCampaign\n",
    "from utils import postRequest, putRequest\n",
    "from config import getBaseURL\n",
    "from updateCampaign import update"
   ]
  },
  {
   "cell_type": "code",
   "execution_count": 7,
   "id": "1b54b765",
   "metadata": {},
   "outputs": [],
   "source": [
    "def toJSON(df):\n",
    "    df.to_json(\"testCampaign.json\",\n",
    "           orient = \"records\",\n",
    "           date_format = \"epoch\",\n",
    "           double_precision = 10,\n",
    "           force_ascii = True,\n",
    "           date_unit = \"ms\",\n",
    "           default_handler = None)"
   ]
  },
  {
   "cell_type": "code",
   "execution_count": 13,
   "id": "1d58b0f9",
   "metadata": {},
   "outputs": [],
   "source": [
    "def formatCSV(df):\n",
    "    drop = ['Campaign Group', 'Campaign Type']\n",
    "    # Not seeing Campaign Group in the API\n",
    "    # Rick has Campaign Type as a single value but API has key-value pair\n",
    "    # for Frequency Capping you must specify both \"how many times\" and \"hours\"\n",
    "    # Rick has OBA Provider as a single value but API has key-value pair\n",
    "    # Could not get oba_provider working as a dictionary \"invalid key\", only as a \n",
    "    #    scalar (oba_provider_id)\n",
    "    # Are you ever going to have Retail Markups?\n",
    "    # Max Bid can't have $ in it, numeric only\n",
    "    # Not seeing Budget Type in the API doc\n",
    "    # Not seeing Budget Spend in the API doc; Total Spend is there\n",
    "    # What is the difference between col G and O? Both look like impression caps\n",
    "    # I am not seeing \"Monthly Impression Cap\" col P\n",
    "    # Auto Optimize Goal should be True/False, although it looked like it worked with \"enabled\"\n",
    "    # Not seeing anything for Location Type; maybe just a screen field?\n",
    "    # geo-Fences: TBD\n",
    "    # Geo Fence Recency: get codes\n",
    "    35, 37\n",
    "    \n",
    "    \n",
    "    \n",
    "    keep = ['Campaign Name', 'Custom ID', 'Start Date', 'End Date', 'Impressions',\n",
    "            'Per hours', 'Comments', 'Auto Optimize Goal', ]\n",
    "    df = df[keep]\n",
    "    \n",
    "    d = {'Campaign Name': 'name', 'Custom ID': 'custom_id',\n",
    "        'Start Date': 'start_date', 'End Date': 'end_date',\n",
    "        'Impressions': 'impression_cap', 'Per hours': 'hours',\n",
    "         'Max Bid': 'max_bid', 'Auto Optimize Goal': 'auto_optimize',}\n",
    "    df.rename(columns=d, inplace=True)\n",
    "    return df"
   ]
  },
  {
   "cell_type": "code",
   "execution_count": 19,
   "id": "767be23e",
   "metadata": {},
   "outputs": [],
   "source": [
    "def formatPayload(df):\n",
    "    d2={}\n",
    "    for col in df.columns:\n",
    "        if col == 'hours':\n",
    "            d2['frequency_capping'] = {\"how_many_times\": '2', 'hours': str(df.loc[0,col])}\n",
    "        elif col == 'oba_provider':\n",
    "            pass\n",
    "        elif col in ['Comments', 'goal_type', 'goal_value']:\n",
    "            pass\n",
    "        else:\n",
    "            d2[col]= str(df.loc[0,col])\n",
    "    \n",
    "    d1={}\n",
    "    d1['campaign'] = d2\n",
    "    print(d1)\n",
    "    return d1"
   ]
  },
  {
   "cell_type": "code",
   "execution_count": 10,
   "id": "efeae05c",
   "metadata": {},
   "outputs": [],
   "source": [
    "# process any comments\n",
    "def addComment(df):\n",
    "    comment = df.loc[0, 'Comments']\n",
    "    if comment is not None:\n",
    "        base = getBaseURL()\n",
    "        url = base+'campaigns/'+str(campaignID)+'/comments'\n",
    "        payload = {\"comment\": {\"text\": \"this is Ricks first comment\"}}\n",
    "        payload = json.dumps(payload)\n",
    "        resp = postRequest(url, payload)"
   ]
  },
  {
   "cell_type": "code",
   "execution_count": 11,
   "id": "2bd66273",
   "metadata": {},
   "outputs": [],
   "source": [
    "# Campaign Goals\n",
    "def campaignGoals(df):\n",
    "    goalType = df.loc[0, 'goal_type']\n",
    "    goalAmt = df.loc[0, 'goal_value']\n",
    "    base = getBaseURL()\n",
    "    url = base+\"organizations/\"+str(orgID)+\"/campaigns/\"+str(campaignID)\n",
    "    payload = {\"campaign\": {\"campaign_goal\": {\"goal_type\": goalType,\n",
    "                                              'goal_value': goalAmt}\n",
    "                           }\n",
    "              }\n",
    "    payload = json.dumps(payload)\n",
    "    resp = putRequest(url, payload)\n",
    "    return resp"
   ]
  },
  {
   "cell_type": "code",
   "execution_count": null,
   "id": "80538f0d",
   "metadata": {},
   "outputs": [],
   "source": [
    "def updDeviceTypes():\n",
    "    {\n",
    "        \"device_type_ids\": [2, 3, 36, 37]\n",
    "      }' \\\n",
    "  \"https://app.simpli.fi/api/campaigns/697/device_types\""
   ]
  },
  {
   "cell_type": "code",
   "execution_count": 22,
   "id": "1780063b",
   "metadata": {},
   "outputs": [
    {
     "data": {
      "text/html": [
       "<div>\n",
       "<style scoped>\n",
       "    .dataframe tbody tr th:only-of-type {\n",
       "        vertical-align: middle;\n",
       "    }\n",
       "\n",
       "    .dataframe tbody tr th {\n",
       "        vertical-align: top;\n",
       "    }\n",
       "\n",
       "    .dataframe thead th {\n",
       "        text-align: right;\n",
       "    }\n",
       "</style>\n",
       "<table border=\"1\" class=\"dataframe\">\n",
       "  <thead>\n",
       "    <tr style=\"text-align: right;\">\n",
       "      <th></th>\n",
       "      <th>Campaign Name</th>\n",
       "      <th>Custom ID</th>\n",
       "      <th>Campaign Group</th>\n",
       "      <th>Campaign Type</th>\n",
       "      <th>Start Date</th>\n",
       "      <th>End Date</th>\n",
       "      <th>Impressions</th>\n",
       "      <th>Per hours</th>\n",
       "      <th>OBA Com0o8ahce</th>\n",
       "      <th>Retail Markups</th>\n",
       "      <th>...</th>\n",
       "      <th>Geo-Fences</th>\n",
       "      <th>Geo-Fence Recency</th>\n",
       "      <th>Unnamed: 23</th>\n",
       "      <th>Geo-Conversions</th>\n",
       "      <th>Site Conversions</th>\n",
       "      <th>Day Parting</th>\n",
       "      <th>Device Types</th>\n",
       "      <th>Media type</th>\n",
       "      <th>Ads</th>\n",
       "      <th>Add Ad Flight</th>\n",
       "    </tr>\n",
       "  </thead>\n",
       "  <tbody>\n",
       "    <tr>\n",
       "      <th>0</th>\n",
       "      <td>Copy 1-13 Backup of Pizza Hut</td>\n",
       "      <td>123456789</td>\n",
       "      <td>Tom's API Test</td>\n",
       "      <td>Geo Optimized</td>\n",
       "      <td>2022-01-13</td>\n",
       "      <td>2022-05-15</td>\n",
       "      <td>4</td>\n",
       "      <td>24</td>\n",
       "      <td>Truste</td>\n",
       "      <td>None</td>\n",
       "      <td>...</td>\n",
       "      <td>NaN</td>\n",
       "      <td>Within 1 month</td>\n",
       "      <td>NaN</td>\n",
       "      <td>NaN</td>\n",
       "      <td>NaN</td>\n",
       "      <td>NaN</td>\n",
       "      <td>Mobile, Tablets</td>\n",
       "      <td>Display</td>\n",
       "      <td>NaN</td>\n",
       "      <td>NaN</td>\n",
       "    </tr>\n",
       "  </tbody>\n",
       "</table>\n",
       "<p>1 rows × 31 columns</p>\n",
       "</div>"
      ],
      "text/plain": [
       "                   Campaign Name  Custom ID  Campaign Group  Campaign Type  \\\n",
       "0  Copy 1-13 Backup of Pizza Hut  123456789  Tom's API Test  Geo Optimized   \n",
       "\n",
       "   Start Date    End Date  Impressions  Per hours OBA Com0o8ahce  \\\n",
       "0  2022-01-13  2022-05-15            4         24         Truste   \n",
       "\n",
       "  Retail Markups  ... Geo-Fences Geo-Fence Recency Unnamed: 23  \\\n",
       "0           None  ...        NaN    Within 1 month         NaN   \n",
       "\n",
       "  Geo-Conversions Site Conversions Day Parting     Device Types Media type  \\\n",
       "0             NaN              NaN         NaN  Mobile, Tablets    Display   \n",
       "\n",
       "  Ads Add Ad Flight  \n",
       "0 NaN           NaN  \n",
       "\n",
       "[1 rows x 31 columns]"
      ]
     },
     "execution_count": 22,
     "metadata": {},
     "output_type": "execute_result"
    }
   ],
   "source": [
    "df = pd.read_csv('/home/tbrownex/data/SteveRoss/testCampaign.csv', skiprows=1)\n",
    "df"
   ]
  },
  {
   "cell_type": "code",
   "execution_count": 23,
   "id": "ca2bbed9",
   "metadata": {},
   "outputs": [
    {
     "name": "stderr",
     "output_type": "stream",
     "text": [
      "/home/tbrownex/tensorflow/lib/python3.8/site-packages/pandas/core/frame.py:4441: SettingWithCopyWarning: \n",
      "A value is trying to be set on a copy of a slice from a DataFrame\n",
      "\n",
      "See the caveats in the documentation: https://pandas.pydata.org/pandas-docs/stable/user_guide/indexing.html#returning-a-view-versus-a-copy\n",
      "  return super().rename(\n"
     ]
    }
   ],
   "source": [
    "df = formatCSV(df)"
   ]
  },
  {
   "cell_type": "code",
   "execution_count": 24,
   "id": "23409010",
   "metadata": {},
   "outputs": [
    {
     "name": "stdout",
     "output_type": "stream",
     "text": [
      "{'campaign': {'name': 'Copy 1-13 Backup of Pizza Hut', 'custom_id': '123456789', 'start_date': '2022-01-13', 'end_date': '2022-05-15', 'impression_cap': '4', 'frequency_capping': {'how_many_times': '2', 'hours': '24'}, 'auto_optimize': 'Enabled '}}\n"
     ]
    }
   ],
   "source": [
    "payload = formatPayload(df)"
   ]
  },
  {
   "cell_type": "code",
   "execution_count": 26,
   "id": "73d0e798",
   "metadata": {},
   "outputs": [],
   "source": [
    "payload = json.dumps(payload)\n",
    "tom=update(orgID, campaignID, payload)"
   ]
  },
  {
   "cell_type": "code",
   "execution_count": 12,
   "id": "a4044316",
   "metadata": {},
   "outputs": [],
   "source": [
    "# Comment processing\n",
    "comment = addComment(df)"
   ]
  },
  {
   "cell_type": "code",
   "execution_count": 19,
   "id": "a656ba5a",
   "metadata": {},
   "outputs": [
    {
     "name": "stdout",
     "output_type": "stream",
     "text": [
      "https://app.simpli.fi/api/organizations/352328/campaigns/2893122\n",
      "{\"campaign\": {\"campaign_goal\": {\"goal_type\": \"CPA\", \"goal_value\": 2.0}}}\n",
      "success\n"
     ]
    }
   ],
   "source": [
    "campaignGoals(df)"
   ]
  },
  {
   "cell_type": "code",
   "execution_count": null,
   "id": "9f254ee7",
   "metadata": {},
   "outputs": [],
   "source": []
  }
 ],
 "metadata": {
  "kernelspec": {
   "display_name": "tensorflow",
   "language": "python",
   "name": "tensorflow"
  },
  "language_info": {
   "codemirror_mode": {
    "name": "ipython",
    "version": 3
   },
   "file_extension": ".py",
   "mimetype": "text/x-python",
   "name": "python",
   "nbconvert_exporter": "python",
   "pygments_lexer": "ipython3",
   "version": "3.8.10"
  }
 },
 "nbformat": 4,
 "nbformat_minor": 5
}
