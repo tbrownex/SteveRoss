{
 "cells": [
  {
   "cell_type": "code",
   "execution_count": 1,
   "id": "af4ffc05",
   "metadata": {},
   "outputs": [],
   "source": [
    "import os\n",
    "import pandas as pd\n",
    "\n",
    "from getOrganization import getOrg\n",
    "from copyCampaign import copyCampaign\n",
    "from getCampaign import getCampaign"
   ]
  },
  {
   "cell_type": "code",
   "execution_count": 2,
   "id": "56d02759",
   "metadata": {},
   "outputs": [],
   "source": [
    "def confirmCampaign(orgID, campaignID):\n",
    "    print('\\n')\n",
    "    print(\"confirm this is the right campaign:\")\n",
    "    print('\\n')\n",
    "    \n",
    "    _ =getCampaign(orgID, campaignID)\n",
    "    \n",
    "    confirm = input(\"Confirm? (yes)\")\n",
    "    \n",
    "    if confirm == 'yes':\n",
    "        return True\n",
    "    else:\n",
    "        return False"
   ]
  },
  {
   "cell_type": "code",
   "execution_count": 3,
   "id": "7ba990f5",
   "metadata": {},
   "outputs": [],
   "source": [
    "def confirmImages():\n",
    "    print('\\n')\n",
    "    print(\"confirm these are the right image files:\")\n",
    "    for img in sorted(os.listdir(f'{orgName}/images')):\n",
    "        print(img)\n",
    "    \n",
    "    confirm = input(\"Confirm? (yes)\")\n",
    "    if confirm == 'yes':\n",
    "        return True\n",
    "    else:\n",
    "        return False"
   ]
  },
  {
   "cell_type": "code",
   "execution_count": 12,
   "id": "dc48a5c5",
   "metadata": {},
   "outputs": [],
   "source": [
    "def getCampaignIDs():\n",
    "    df = pd.read_csv('/home/tbrownex/repos/SteveRoss/Subway/campaignIDs.csv')\n",
    "    return list(df.campaignID)"
   ]
  },
  {
   "cell_type": "code",
   "execution_count": 4,
   "id": "42cd8976",
   "metadata": {},
   "outputs": [],
   "source": [
    "def confirmAddresses(orgName):\n",
    "    print('\\n')\n",
    "    print(\"confirm these are the right address files:\")\n",
    "    for csv in sorted(os.listdir(f'{orgName}/addresses')):\n",
    "        print(csv)\n",
    "    \n",
    "    confirm = input(\"Confirm? (yes)\")\n",
    "    if confirm == 'yes':\n",
    "        return True\n",
    "    else:\n",
    "        return False"
   ]
  },
  {
   "cell_type": "code",
   "execution_count": 2,
   "id": "14650d20",
   "metadata": {},
   "outputs": [
    {
     "name": "stdout",
     "output_type": "stream",
     "text": [
      "Subway\n"
     ]
    }
   ],
   "source": [
    "orgID = 351975\n",
    "orgName = getOrg(orgID)"
   ]
  },
  {
   "cell_type": "code",
   "execution_count": 4,
   "id": "9273158f",
   "metadata": {},
   "outputs": [
    {
     "data": {
      "text/plain": [
       "'campaignIDs = getCampaignIDs()\\n\\ncampaignIDs = campaignIDs[4:6]'"
      ]
     },
     "execution_count": 4,
     "metadata": {},
     "output_type": "execute_result"
    }
   ],
   "source": [
    "'''campaignIDs = getCampaignIDs()\n",
    "\n",
    "campaignIDs = campaignIDs[4:6]'''"
   ]
  },
  {
   "cell_type": "code",
   "execution_count": 3,
   "id": "9675a847",
   "metadata": {},
   "outputs": [],
   "source": [
    "campaignIDs = [2937521]"
   ]
  },
  {
   "cell_type": "code",
   "execution_count": 4,
   "id": "83086883",
   "metadata": {},
   "outputs": [
    {
     "name": "stdout",
     "output_type": "stream",
     "text": [
      "Subway\n",
      "\n",
      "\n",
      "id                  2937521\n",
      "name                FP - Zaxby's (SP 1)\n",
      "custom_id           None\n",
      "status              Draft\n",
      "start_date          2022-05-21\n",
      "end_date            2022-07-15\n",
      "Creating Campaigns\n",
      "success\n",
      "-- 2941239\n",
      "success\n",
      "-- 2941240\n",
      "success\n",
      "-- 2941241\n",
      "success\n",
      "-- 2941242\n",
      "success\n",
      "-- 2941243\n",
      "success\n",
      "-- 2941244\n",
      "success\n",
      "-- 2941245\n",
      "success\n",
      "-- 2941246\n",
      "success\n",
      "-- 2941247\n",
      "Updating Device Types\n",
      "-- 2941239\n",
      "success\n",
      "-- 2941240\n",
      "success\n",
      "-- 2941241\n",
      "success\n",
      "-- 2941242\n",
      "success\n",
      "-- 2941243\n",
      "success\n",
      "-- 2941244\n",
      "success\n",
      "-- 2941245\n",
      "success\n",
      "-- 2941246\n",
      "success\n",
      "-- 2941247\n",
      "success\n",
      "Updating GeoFences\n",
      "-- 2941239\n",
      "-- 2941240\n",
      "-- 2941241\n",
      "-- 2941242\n",
      "-- 2941243\n",
      "-- 2941244\n",
      "-- 2941245\n",
      "-- 2941246\n",
      "-- 2941247\n",
      "Creating Addressable Targets\n",
      "success\n",
      "success\n",
      "success\n",
      "success\n",
      "success\n",
      "success\n",
      "success\n",
      "success\n",
      "success\n"
     ]
    }
   ],
   "source": [
    "numCopies = 9\n",
    "for campaignID in campaignIDs:\n",
    "    copyCampaign(orgID, campaignID, orgName, numCopies)"
   ]
  },
  {
   "cell_type": "markdown",
   "id": "95b542d2",
   "metadata": {},
   "source": [
    "##### Any images loaded into Subway/images will be copied to the new campaigns\n",
    "##### The number of campaigns to create will equal the number of CSV files in Subway/addresses"
   ]
  },
  {
   "cell_type": "code",
   "execution_count": 35,
   "id": "81ea7eea",
   "metadata": {},
   "outputs": [],
   "source": [
    "from addAddressableTargetToCampaign import addAddressableTargetToCampaign"
   ]
  },
  {
   "cell_type": "code",
   "execution_count": 45,
   "id": "658deaba",
   "metadata": {},
   "outputs": [],
   "source": [
    "campaignIDs = [x for x in range(2940867, 2940877)]\n",
    "campaignIDs.remove(2940874)"
   ]
  },
  {
   "cell_type": "code",
   "execution_count": 48,
   "id": "06cfd603",
   "metadata": {},
   "outputs": [
    {
     "data": {
      "text/plain": [
       "[2940867,\n",
       " 2940868,\n",
       " 2940869,\n",
       " 2940870,\n",
       " 2940871,\n",
       " 2940872,\n",
       " 2940873,\n",
       " 2940875,\n",
       " 2940876]"
      ]
     },
     "execution_count": 48,
     "metadata": {},
     "output_type": "execute_result"
    }
   ],
   "source": [
    "campaignIDs"
   ]
  },
  {
   "cell_type": "code",
   "execution_count": 49,
   "id": "f82f9ba7",
   "metadata": {},
   "outputs": [],
   "source": [
    "addressIDs = [675638,678335,678334,678333,678332,678331,678329,678328,678324]\n",
    "#campaignIDs = [2940483, 2940484,2940485, 2940486, 2940487, 2940488, 2940489, 2940490, 2940491]"
   ]
  },
  {
   "cell_type": "code",
   "execution_count": 50,
   "id": "077f659a",
   "metadata": {},
   "outputs": [
    {
     "name": "stdout",
     "output_type": "stream",
     "text": [
      "success\n",
      "success\n",
      "success\n",
      "success\n",
      "success\n",
      "success\n",
      "success\n",
      "success\n",
      "422\n"
     ]
    }
   ],
   "source": [
    "for x,campaignID in enumerate(campaignIDs):\n",
    "    addressID = addressIDs[x]\n",
    "    addAddressableTargetToCampaign(orgID, campaignID, addressID)"
   ]
  },
  {
   "cell_type": "code",
   "execution_count": null,
   "id": "1ecb90f0",
   "metadata": {},
   "outputs": [],
   "source": []
  },
  {
   "cell_type": "code",
   "execution_count": null,
   "id": "8480feef",
   "metadata": {},
   "outputs": [],
   "source": []
  }
 ],
 "metadata": {
  "kernelspec": {
   "display_name": "tensorflow",
   "language": "python",
   "name": "tensorflow"
  },
  "language_info": {
   "codemirror_mode": {
    "name": "ipython",
    "version": 3
   },
   "file_extension": ".py",
   "mimetype": "text/x-python",
   "name": "python",
   "nbconvert_exporter": "python",
   "pygments_lexer": "ipython3",
   "version": "3.8.10"
  }
 },
 "nbformat": 4,
 "nbformat_minor": 5
}
