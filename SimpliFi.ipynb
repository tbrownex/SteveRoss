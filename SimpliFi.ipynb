{
 "cells": [
  {
   "cell_type": "code",
   "execution_count": 4,
   "metadata": {},
   "outputs": [],
   "source": [
    "import urllib.request\n",
    "import json\n",
    "import requests\n",
    "\n",
    "import config\n",
    "from utils import getRequest, putRequest\n",
    "from createCampaign import createCampaign\n",
    "from getCampaign import getCampaign\n",
    "from copyCampaign import copyCampaign\n",
    "from showGeoTargets import showGeoTargets\n",
    "from getAds import getAds\n",
    "from postAd import postAd\n",
    "from getGeoFences import getGeoFences\n",
    "from updateGeoFences import updateGeoFences\n",
    "from getOrganization import getOrg\n",
    "from updateCampaign import update\n",
    "from getAddresses import getAddresses\n",
    "from createAddressableTarget import createAddressableTarget"
   ]
  },
  {
   "cell_type": "code",
   "execution_count": 5,
   "metadata": {},
   "outputs": [],
   "source": [
    "# Pizza Hut\n",
    "orgID = 352328\n",
    "campaignID = 2905567    # GeoFenced\n",
    "# Aurelios\n",
    "orgID = 266374\n",
    "campaignID = 1897595    # Addressable\n",
    "# Subway\n",
    "orgID = 351975\n",
    "campaignID = 2922696"
   ]
  },
  {
   "cell_type": "code",
   "execution_count": 3,
   "metadata": {},
   "outputs": [],
   "source": [
    "# Get the name of a specific Organization\n",
    "#orgName = getOrg()         # Names of all Orgs\n",
    "#orgName = getOrg(orgID)    # Name of a single Org"
   ]
  },
  {
   "cell_type": "markdown",
   "metadata": {},
   "source": [
    "##### Addresses"
   ]
  },
  {
   "cell_type": "code",
   "execution_count": 4,
   "metadata": {},
   "outputs": [],
   "source": [
    "# Get the Addressable targets for an Organization\n",
    "#resp = getAddresses(_, orgID)             # Targets for an organization\n",
    "#resp = getAddresses(campaignID, None)     # Targets for a campaign"
   ]
  },
  {
   "cell_type": "code",
   "execution_count": 5,
   "metadata": {},
   "outputs": [],
   "source": [
    "# Get all the geoFences for a campaign\n",
    "#resp = getGeoFences(orgID, campaignID, None)             # GeoFences for a campaign\n",
    "#resp = getGeoFences(orgID, campaignID, 113805972)   # Coordinates of a geoFence"
   ]
  },
  {
   "cell_type": "markdown",
   "metadata": {},
   "source": [
    "##### Campaign(s)"
   ]
  },
  {
   "cell_type": "code",
   "execution_count": 6,
   "metadata": {
    "scrolled": true
   },
   "outputs": [
    {
     "name": "stdout",
     "output_type": "stream",
     "text": [
      "Subway\n",
      "\n",
      "\n",
      "id                  2922696\n",
      "name                Master For Donot (Eighth 20)\n",
      "custom_id           None\n",
      "status              Draft\n",
      "start_date          2022-05-11\n",
      "end_date            2022-07-15\n"
     ]
    }
   ],
   "source": [
    "# Get all campaigns in an Org\n",
    "#campaign = getCampaign(orgID)               # All campaigns in an Org\n",
    "campaign = getCampaign(orgID, campaignID)   # Single campaign"
   ]
  },
  {
   "cell_type": "code",
   "execution_count": 7,
   "metadata": {},
   "outputs": [],
   "source": [
    "# Create a single campaign, which is a two-step process\n",
    "# First create a stub via POST; then update the stub\n",
    "#campaignID = createCampaign(orgID)"
   ]
  },
  {
   "cell_type": "code",
   "execution_count": 8,
   "metadata": {},
   "outputs": [
    {
     "name": "stdout",
     "output_type": "stream",
     "text": [
      "Subway\n",
      "\n",
      "\n",
      "id                  2922696\n",
      "name                Master For Donot (Eighth 20)\n",
      "custom_id           None\n",
      "status              Draft\n",
      "start_date          2022-05-11\n",
      "end_date            2022-07-15\n",
      "Campaign 2929521 created\n",
      "success\n",
      "Campaign 2929522 created\n",
      "success\n"
     ]
    }
   ],
   "source": [
    "# Copy a campaign: this will create as many campaigns as specified\n",
    "copyCampaign(orgID, campaignID, 2)"
   ]
  },
  {
   "cell_type": "code",
   "execution_count": 11,
   "metadata": {},
   "outputs": [
    {
     "name": "stdout",
     "output_type": "stream",
     "text": [
      "success\n"
     ]
    }
   ],
   "source": [
    "# Update a campaign\n",
    "payload = {\n",
    "    \"campaign\":{\n",
    "        \"start_date\": \"2022-11-11\"\n",
    "    }\n",
    "}\n",
    "payload = json.dumps(payload)\n",
    "resp = update(orgID, campaignID, payload)"
   ]
  },
  {
   "cell_type": "markdown",
   "metadata": {},
   "source": [
    "##### Ads"
   ]
  },
  {
   "cell_type": "code",
   "execution_count": 17,
   "metadata": {},
   "outputs": [],
   "source": [
    "# Get the ads for a campaign\n",
    "#resp = getAds(orgID, campaignID)"
   ]
  },
  {
   "cell_type": "code",
   "execution_count": 11,
   "metadata": {},
   "outputs": [
    {
     "name": "stdout",
     "output_type": "stream",
     "text": [
      "Aurelio's Pizza\n",
      "\n",
      "\n",
      "id                  1897595\n",
      "name                Aurelio's Pizza_Aurel-01_Homewood_Addressable_4/23-5/24/20\n",
      "custom_id           None\n",
      "status              Ended\n",
      "start_date          2020-04-23\n",
      "end_date            2020-05-24\n",
      "\n",
      "\n"
     ]
    }
   ],
   "source": [
    "# Create a new Ad for a campaign\n",
    "path='/home/tbrownex/repos/SteveRoss'\n",
    "fileName='sampleAd.jpg'\n",
    "adDetails = {\n",
    "    'name': 'Tom confirm2',\n",
    "    'path': path,\n",
    "    'fileName': fileName\n",
    "}\n",
    "resp = postAd(orgID, campaignID, adDetails)"
   ]
  },
  {
   "cell_type": "code",
   "execution_count": null,
   "metadata": {},
   "outputs": [],
   "source": [
    "# Create an Addressable Target\n",
    "payload = {'address':\n",
    "           {'name': 'Tom01',\n",
    "            \"first_party_segment_score_filter_attributes\":\n",
    "            {\"segment_score_filter_id\": 1}\n",
    "           }\n",
    "          }\n",
    "url = base + \"organizations/\"+str(orgID)+\"/addresses\""
   ]
  },
  {
   "cell_type": "code",
   "execution_count": 9,
   "metadata": {},
   "outputs": [],
   "source": [
    "#showGeoTargets(orgID, campaignID)"
   ]
  },
  {
   "cell_type": "code",
   "execution_count": 10,
   "metadata": {},
   "outputs": [
    {
     "name": "stdout",
     "output_type": "stream",
     "text": [
      "2928011\n",
      "2928010\n",
      "2928009\n"
     ]
    }
   ],
   "source": [
    "newIDs = ['2928011', '2928010', '2928009']\n",
    "for key in newIDs:\n",
    "    path='/home/tbrownex/repos/SteveRoss'\n",
    "    fileName='sampleAd.jpg'\n",
    "    adDetails = {\n",
    "        'name': 'Tom confirm2',\n",
    "        'path': path,\n",
    "        'fileName': fileName\n",
    "    }"
   ]
  },
  {
   "cell_type": "code",
   "execution_count": null,
   "metadata": {},
   "outputs": [],
   "source": []
  }
 ],
 "metadata": {
  "anaconda-cloud": {},
  "kernelspec": {
   "display_name": "tensorflow",
   "language": "python",
   "name": "tensorflow"
  },
  "language_info": {
   "codemirror_mode": {
    "name": "ipython",
    "version": 3
   },
   "file_extension": ".py",
   "mimetype": "text/x-python",
   "name": "python",
   "nbconvert_exporter": "python",
   "pygments_lexer": "ipython3",
   "version": "3.8.10"
  }
 },
 "nbformat": 4,
 "nbformat_minor": 1
}
