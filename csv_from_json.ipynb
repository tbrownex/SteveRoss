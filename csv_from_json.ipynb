{
 "cells": [
  {
   "cell_type": "code",
   "execution_count": 1,
   "id": "06acc5cc",
   "metadata": {},
   "outputs": [],
   "source": [
    "import json"
   ]
  },
  {
   "cell_type": "code",
   "execution_count": 2,
   "id": "696bfb1f",
   "metadata": {},
   "outputs": [],
   "source": [
    "with open('workplaces.json', 'r') as f:\n",
    "    data = json.load(f)"
   ]
  },
  {
   "cell_type": "code",
   "execution_count": 3,
   "id": "be39ceb3",
   "metadata": {},
   "outputs": [],
   "source": [
    "names = []\n",
    "geoFenceTypes = []\n",
    "geoFenceIDs = []\n",
    "campaignIDs = []\n",
    "for row in data['features']:\n",
    "    props = row['properties']\n",
    "    names.append(props['name'])\n",
    "    geoFenceTypes.append(props['geoFenceType'])\n",
    "    geoFenceIDs.append(props['id'])\n",
    "    campaignIDs.append(props['campaign_id'])"
   ]
  },
  {
   "cell_type": "code",
   "execution_count": 4,
   "id": "14e48df6",
   "metadata": {},
   "outputs": [
    {
     "data": {
      "text/plain": [
       "\"coords = []\\nfor row in data['features']:\\n    coords.append(row['geometry']['coordinates'])\""
      ]
     },
     "execution_count": 4,
     "metadata": {},
     "output_type": "execute_result"
    }
   ],
   "source": [
    "'''coords = []\n",
    "for row in data['features']:\n",
    "    coords.append(row['geometry']['coordinates'])'''"
   ]
  },
  {
   "cell_type": "code",
   "execution_count": null,
   "id": "7bd3bec8",
   "metadata": {},
   "outputs": [],
   "source": []
  }
 ],
 "metadata": {
  "kernelspec": {
   "display_name": "tensorflow",
   "language": "python",
   "name": "tensorflow"
  },
  "language_info": {
   "codemirror_mode": {
    "name": "ipython",
    "version": 3
   },
   "file_extension": ".py",
   "mimetype": "text/x-python",
   "name": "python",
   "nbconvert_exporter": "python",
   "pygments_lexer": "ipython3",
   "version": "3.8.10"
  }
 },
 "nbformat": 4,
 "nbformat_minor": 5
}
