{
 "cells": [
  {
   "cell_type": "code",
   "execution_count": 1,
   "id": "b8a7bae4",
   "metadata": {},
   "outputs": [],
   "source": [
    "import json\n",
    "import os\n",
    "\n",
    "from getOrganization import getOrg\n",
    "from getCampaign import getCampaign\n",
    "from utils import putRequest\n",
    "from config import getBaseURL"
   ]
  },
  {
   "cell_type": "code",
   "execution_count": 2,
   "id": "7ec23d71",
   "metadata": {},
   "outputs": [],
   "source": [
    "loc = '/home/tbrownex/data/SteveRoss/'"
   ]
  },
  {
   "cell_type": "code",
   "execution_count": 3,
   "id": "df7a558b",
   "metadata": {},
   "outputs": [
    {
     "name": "stdout",
     "output_type": "stream",
     "text": [
      "Enter the fileNameMcDonalds_locations\n",
      "OK\n"
     ]
    }
   ],
   "source": [
    "file=input('Enter the fileName')\n",
    "\n",
    "if os.path.isfile(loc+file+'.json'):\n",
    "    print('OK')\n",
    "else:\n",
    "    print(\"File not found\")"
   ]
  },
  {
   "cell_type": "code",
   "execution_count": 4,
   "id": "86066369",
   "metadata": {},
   "outputs": [
    {
     "name": "stdout",
     "output_type": "stream",
     "text": [
      "You are running this for:\n",
      "\n",
      "Pizza Hut ADT Pizza\n"
     ]
    }
   ],
   "source": [
    "orgID=352328\n",
    "print(\"You are running this for:\\n\")\n",
    "_=getOrg(orgID)"
   ]
  },
  {
   "cell_type": "code",
   "execution_count": 6,
   "id": "ba314b02",
   "metadata": {},
   "outputs": [
    {
     "name": "stdout",
     "output_type": "stream",
     "text": [
      "Enter the Campaign ID2905567\n",
      "Pizza Hut ADT Pizza\n",
      "\n",
      "\n",
      "id                  2905567\n",
      "name                Tom's Pizza Hut ADT - GF Dominos Red 8  on 64 - Rick's Creative W Animation\n",
      "custom_id           None\n",
      "status              Draft\n",
      "start_date          2022-04-29\n",
      "end_date            None\n"
     ]
    }
   ],
   "source": [
    "campaignId=input(\"Enter the Campaign ID\")\n",
    "_=getCampaign(orgID, campaignId)"
   ]
  },
  {
   "cell_type": "code",
   "execution_count": 7,
   "id": "588f7b5c",
   "metadata": {},
   "outputs": [],
   "source": [
    "with open(loc+file+'.json', 'r') as myfile:\n",
    "    data=myfile.read()\n",
    "\n",
    "# parse file\n",
    "obj = json.loads(data)"
   ]
  },
  {
   "cell_type": "code",
   "execution_count": 8,
   "id": "ac48f90f",
   "metadata": {},
   "outputs": [],
   "source": [
    "l=[]\n",
    "for f in obj['features']:\n",
    "    d={}\n",
    "    d['name']=f['properties']['name']\n",
    "    ba={}\n",
    "    ba['type']='Polygon'\n",
    "    ba['coordinates']=f['geometry']['coordinates']\n",
    "    d['bid_area']=ba\n",
    "    l.append(d)\n",
    "\n",
    "gf = {}\n",
    "gf['geo_fences']=l"
   ]
  },
  {
   "cell_type": "code",
   "execution_count": 9,
   "id": "7d59c6a8",
   "metadata": {},
   "outputs": [
    {
     "name": "stdout",
     "output_type": "stream",
     "text": [
      "success\n"
     ]
    }
   ],
   "source": [
    "# Replace the current geo Fences with \"payload\"\n",
    "payload = json.dumps(gf)\n",
    "base = getBaseURL()\n",
    "url = base+'organizations/'+str(orgID)+'/campaigns/'+str(campaignID)+'/geo_fences'\n",
    "#resp = putRequest(url, payload)    "
   ]
  }
 ],
 "metadata": {
  "kernelspec": {
   "display_name": "tensorflow",
   "language": "python",
   "name": "tensorflow"
  },
  "language_info": {
   "codemirror_mode": {
    "name": "ipython",
    "version": 3
   },
   "file_extension": ".py",
   "mimetype": "text/x-python",
   "name": "python",
   "nbconvert_exporter": "python",
   "pygments_lexer": "ipython3",
   "version": "3.8.10"
  }
 },
 "nbformat": 4,
 "nbformat_minor": 5
}
